{
  "metadata": {
    "kernelspec": {
      "name": "python",
      "display_name": "Python (Pyodide)",
      "language": "python"
    },
    "language_info": {
      "codemirror_mode": {
        "name": "python",
        "version": 3
      },
      "file_extension": ".py",
      "mimetype": "text/x-python",
      "name": "python",
      "nbconvert_exporter": "python",
      "pygments_lexer": "ipython3",
      "version": "3.8"
    }
  },
  "nbformat_minor": 4,
  "nbformat": 4,
  "cells": [
    {
      "cell_type": "code",
      "source": "import pandas as pd\n\nevents_df = pd.read_csv('simple_interview_events.csv')",
      "metadata": {
        "trusted": true,
        "tags": [],
        "editable": true,
        "slideshow": {
          "slide_type": ""
        }
      },
      "outputs": [
        {
          "execution_count": 3,
          "output_type": "execute_result",
          "data": {
            "text/plain": "   user_id        event_type           event_time               event_params\n0    32001  onboarding_start  2024-01-01T00:01:40  {\"funnel_type\": \"female\"}\n1    99564  onboarding_start  2024-01-01T00:01:53    {\"funnel_type\": \"male\"}\n2    32001     profile_start  2024-01-01T00:01:58                         {}\n3    99564     profile_start  2024-01-01T00:02:07                         {}\n4    71575  onboarding_start  2024-01-01T00:02:18  {\"funnel_type\": \"female\"}",
            "text/html": "<div>\n<style scoped>\n    .dataframe tbody tr th:only-of-type {\n        vertical-align: middle;\n    }\n\n    .dataframe tbody tr th {\n        vertical-align: top;\n    }\n\n    .dataframe thead th {\n        text-align: right;\n    }\n</style>\n<table border=\"1\" class=\"dataframe\">\n  <thead>\n    <tr style=\"text-align: right;\">\n      <th></th>\n      <th>user_id</th>\n      <th>event_type</th>\n      <th>event_time</th>\n      <th>event_params</th>\n    </tr>\n  </thead>\n  <tbody>\n    <tr>\n      <th>0</th>\n      <td>32001</td>\n      <td>onboarding_start</td>\n      <td>2024-01-01T00:01:40</td>\n      <td>{\"funnel_type\": \"female\"}</td>\n    </tr>\n    <tr>\n      <th>1</th>\n      <td>99564</td>\n      <td>onboarding_start</td>\n      <td>2024-01-01T00:01:53</td>\n      <td>{\"funnel_type\": \"male\"}</td>\n    </tr>\n    <tr>\n      <th>2</th>\n      <td>32001</td>\n      <td>profile_start</td>\n      <td>2024-01-01T00:01:58</td>\n      <td>{}</td>\n    </tr>\n    <tr>\n      <th>3</th>\n      <td>99564</td>\n      <td>profile_start</td>\n      <td>2024-01-01T00:02:07</td>\n      <td>{}</td>\n    </tr>\n    <tr>\n      <th>4</th>\n      <td>71575</td>\n      <td>onboarding_start</td>\n      <td>2024-01-01T00:02:18</td>\n      <td>{\"funnel_type\": \"female\"}</td>\n    </tr>\n  </tbody>\n</table>\n</div>"
          },
          "metadata": {}
        }
      ],
      "execution_count": 3
    },
    {
      "cell_type": "code",
      "source": "unique_event_types = events_df['event_type'].unique\n\nunique_event_types",
      "metadata": {
        "trusted": true,
        "tags": [],
        "editable": true,
        "slideshow": {
          "slide_type": ""
        }
      },
      "outputs": [
        {
          "execution_count": 6,
          "output_type": "execute_result",
          "data": {
            "text/plain": "array(['onboarding_start', 'profile_start', 'email_submit',\n       'paywall_show', 'payment_done', 'experiment_exposure'],\n      dtype=object)"
          },
          "metadata": {}
        }
      ],
      "execution_count": 6
    },
    {
      "cell_type": "code",
      "source": "funnel_stages = ['onboarding_start', 'profile_start', 'email_submit', 'paywall_show', 'payment_done']\n\nfunnel_df = events_df[events_df['event_type'].isin(funnel_stages)]\n\nuser_funnel_counts = funnel_df.groupby('event_type')['user_id'].nunique().reindex(funnel_stages)\n\nuser_funnel_counts",
      "metadata": {
        "trusted": true,
        "tags": [],
        "editable": true,
        "slideshow": {
          "slide_type": ""
        }
      },
      "outputs": [
        {
          "execution_count": 7,
          "output_type": "execute_result",
          "data": {
            "text/plain": "event_type\nonboarding_start    100000\nprofile_start        83051\nemail_submit         65227\npaywall_show         67478\npayment_done          5430\nName: user_id, dtype: int64"
          },
          "metadata": {}
        }
      ],
      "execution_count": 7
    },
    {
      "cell_type": "code",
      "source": "# Calculate the percentage of users who progress from the initial onboarding_start event\ninitial_users = user_funnel_counts['onboarding_start']\nuser_funnel_percentage = (user_funnel_counts / initial_users) * 100\n\nuser_funnel_percentage",
      "metadata": {
        "trusted": true,
        "tags": [],
        "editable": true,
        "slideshow": {
          "slide_type": ""
        }
      },
      "outputs": [
        {
          "execution_count": 9,
          "output_type": "execute_result",
          "data": {
            "text/plain": "event_type\nonboarding_start    100.000\nprofile_start        83.051\nemail_submit         65.227\npaywall_show         67.478\npayment_done          5.430\nName: user_id, dtype: float64"
          },
          "metadata": {}
        }
      ],
      "execution_count": 9
    },
    {
      "cell_type": "code",
      "source": "# Calculate the percentage of users lost at each stage\nuser_funnel_dropoff = user_funnel_percentage.diff().fillna(user_funnel_percentage)\n\nuser_funnel_dropoff",
      "metadata": {
        "trusted": true,
        "tags": [],
        "editable": true,
        "slideshow": {
          "slide_type": ""
        }
      },
      "outputs": [
        {
          "execution_count": 10,
          "output_type": "execute_result",
          "data": {
            "text/plain": "event_type\nonboarding_start    100.000\nprofile_start       -16.949\nemail_submit        -17.824\npaywall_show          2.251\npayment_done        -62.048\nName: user_id, dtype: float64"
          },
          "metadata": {}
        }
      ],
      "execution_count": 10
    },
    {
      "cell_type": "code",
      "source": "#Funnel of those whom was shown paywall without submitting to email\npaywall_users = funnel_df[funnel_df['event_type'] == 'paywall_show']['user_id'].unique()\n\nemail_submit_users = funnel_df[funnel_df['event_type'] == 'email_submit']['user_id'].unique()\n\nusers_paywall_no_email = set(paywall_users) - set(email_submit_users)\n\nfunnel_no_email_df = funnel_df[funnel_df['user_id'].isin(users_paywall_no_email)]\n\nfunnel_no_email_sorted = funnel_no_email_df.sort_values(by=['user_id', 'event_time'])\n\nfunnel_no_email_sorted.head(30)",
      "metadata": {
        "trusted": true,
        "tags": [],
        "editable": true,
        "slideshow": {
          "slide_type": ""
        }
      },
      "outputs": [
        {
          "execution_count": 15,
          "output_type": "execute_result",
          "data": {
            "text/plain": "        user_id        event_type           event_time  \\\n317565        1  onboarding_start  2024-03-24T07:48:11   \n317566        1     profile_start  2024-03-24T07:48:21   \n317606        1      paywall_show  2024-03-24T07:58:24   \n115356       26  onboarding_start  2024-01-30T16:03:55   \n115357       26     profile_start  2024-01-30T16:04:05   \n115386       26      paywall_show  2024-01-30T16:14:09   \n152509       34  onboarding_start  2024-02-09T15:28:29   \n152510       34     profile_start  2024-02-09T15:28:39   \n152533       34      paywall_show  2024-02-09T15:38:42   \n242662       35  onboarding_start  2024-03-04T21:36:49   \n242663       35     profile_start  2024-03-04T21:36:59   \n242684       35      paywall_show  2024-03-04T21:47:00   \n214832       40  onboarding_start  2024-02-26T13:54:01   \n214833       40     profile_start  2024-02-26T13:54:11   \n214853       40      paywall_show  2024-02-26T14:04:12   \n239          42  onboarding_start  2024-01-01T01:29:20   \n241          42     profile_start  2024-01-01T01:29:30   \n265          42      paywall_show  2024-01-01T01:39:31   \n217234       46  onboarding_start  2024-02-27T05:55:57   \n217235       46     profile_start  2024-02-27T05:56:07   \n217266       46      paywall_show  2024-02-27T06:06:10   \n301837       80  onboarding_start  2024-03-20T05:15:31   \n301838       80     profile_start  2024-03-20T05:15:41   \n301863       80      paywall_show  2024-03-20T05:25:43   \n313265      106  onboarding_start  2024-03-23T04:55:21   \n313267      106     profile_start  2024-03-23T04:55:31   \n313299      106      paywall_show  2024-03-23T05:05:32   \n292360      108  onboarding_start  2024-03-17T19:12:26   \n292362      108     profile_start  2024-03-17T19:12:36   \n292392      108      paywall_show  2024-03-17T19:22:38   \n\n                   event_params  \n317565  {\"funnel_type\": \"main\"}  \n317566                       {}  \n317606                       {}  \n115356  {\"funnel_type\": \"main\"}  \n115357                       {}  \n115386                       {}  \n152509  {\"funnel_type\": \"main\"}  \n152510                       {}  \n152533                       {}  \n242662  {\"funnel_type\": \"main\"}  \n242663                       {}  \n242684                       {}  \n214832  {\"funnel_type\": \"main\"}  \n214833                       {}  \n214853                       {}  \n239     {\"funnel_type\": \"main\"}  \n241                          {}  \n265                          {}  \n217234  {\"funnel_type\": \"main\"}  \n217235                       {}  \n217266                       {}  \n301837  {\"funnel_type\": \"main\"}  \n301838                       {}  \n301863                       {}  \n313265  {\"funnel_type\": \"main\"}  \n313267                       {}  \n313299                       {}  \n292360  {\"funnel_type\": \"main\"}  \n292362                       {}  \n292392                       {}  ",
            "text/html": "<div>\n<style scoped>\n    .dataframe tbody tr th:only-of-type {\n        vertical-align: middle;\n    }\n\n    .dataframe tbody tr th {\n        vertical-align: top;\n    }\n\n    .dataframe thead th {\n        text-align: right;\n    }\n</style>\n<table border=\"1\" class=\"dataframe\">\n  <thead>\n    <tr style=\"text-align: right;\">\n      <th></th>\n      <th>user_id</th>\n      <th>event_type</th>\n      <th>event_time</th>\n      <th>event_params</th>\n    </tr>\n  </thead>\n  <tbody>\n    <tr>\n      <th>317565</th>\n      <td>1</td>\n      <td>onboarding_start</td>\n      <td>2024-03-24T07:48:11</td>\n      <td>{\"funnel_type\": \"main\"}</td>\n    </tr>\n    <tr>\n      <th>317566</th>\n      <td>1</td>\n      <td>profile_start</td>\n      <td>2024-03-24T07:48:21</td>\n      <td>{}</td>\n    </tr>\n    <tr>\n      <th>317606</th>\n      <td>1</td>\n      <td>paywall_show</td>\n      <td>2024-03-24T07:58:24</td>\n      <td>{}</td>\n    </tr>\n    <tr>\n      <th>115356</th>\n      <td>26</td>\n      <td>onboarding_start</td>\n      <td>2024-01-30T16:03:55</td>\n      <td>{\"funnel_type\": \"main\"}</td>\n    </tr>\n    <tr>\n      <th>115357</th>\n      <td>26</td>\n      <td>profile_start</td>\n      <td>2024-01-30T16:04:05</td>\n      <td>{}</td>\n    </tr>\n    <tr>\n      <th>115386</th>\n      <td>26</td>\n      <td>paywall_show</td>\n      <td>2024-01-30T16:14:09</td>\n      <td>{}</td>\n    </tr>\n    <tr>\n      <th>152509</th>\n      <td>34</td>\n      <td>onboarding_start</td>\n      <td>2024-02-09T15:28:29</td>\n      <td>{\"funnel_type\": \"main\"}</td>\n    </tr>\n    <tr>\n      <th>152510</th>\n      <td>34</td>\n      <td>profile_start</td>\n      <td>2024-02-09T15:28:39</td>\n      <td>{}</td>\n    </tr>\n    <tr>\n      <th>152533</th>\n      <td>34</td>\n      <td>paywall_show</td>\n      <td>2024-02-09T15:38:42</td>\n      <td>{}</td>\n    </tr>\n    <tr>\n      <th>242662</th>\n      <td>35</td>\n      <td>onboarding_start</td>\n      <td>2024-03-04T21:36:49</td>\n      <td>{\"funnel_type\": \"main\"}</td>\n    </tr>\n    <tr>\n      <th>242663</th>\n      <td>35</td>\n      <td>profile_start</td>\n      <td>2024-03-04T21:36:59</td>\n      <td>{}</td>\n    </tr>\n    <tr>\n      <th>242684</th>\n      <td>35</td>\n      <td>paywall_show</td>\n      <td>2024-03-04T21:47:00</td>\n      <td>{}</td>\n    </tr>\n    <tr>\n      <th>214832</th>\n      <td>40</td>\n      <td>onboarding_start</td>\n      <td>2024-02-26T13:54:01</td>\n      <td>{\"funnel_type\": \"main\"}</td>\n    </tr>\n    <tr>\n      <th>214833</th>\n      <td>40</td>\n      <td>profile_start</td>\n      <td>2024-02-26T13:54:11</td>\n      <td>{}</td>\n    </tr>\n    <tr>\n      <th>214853</th>\n      <td>40</td>\n      <td>paywall_show</td>\n      <td>2024-02-26T14:04:12</td>\n      <td>{}</td>\n    </tr>\n    <tr>\n      <th>239</th>\n      <td>42</td>\n      <td>onboarding_start</td>\n      <td>2024-01-01T01:29:20</td>\n      <td>{\"funnel_type\": \"main\"}</td>\n    </tr>\n    <tr>\n      <th>241</th>\n      <td>42</td>\n      <td>profile_start</td>\n      <td>2024-01-01T01:29:30</td>\n      <td>{}</td>\n    </tr>\n    <tr>\n      <th>265</th>\n      <td>42</td>\n      <td>paywall_show</td>\n      <td>2024-01-01T01:39:31</td>\n      <td>{}</td>\n    </tr>\n    <tr>\n      <th>217234</th>\n      <td>46</td>\n      <td>onboarding_start</td>\n      <td>2024-02-27T05:55:57</td>\n      <td>{\"funnel_type\": \"main\"}</td>\n    </tr>\n    <tr>\n      <th>217235</th>\n      <td>46</td>\n      <td>profile_start</td>\n      <td>2024-02-27T05:56:07</td>\n      <td>{}</td>\n    </tr>\n    <tr>\n      <th>217266</th>\n      <td>46</td>\n      <td>paywall_show</td>\n      <td>2024-02-27T06:06:10</td>\n      <td>{}</td>\n    </tr>\n    <tr>\n      <th>301837</th>\n      <td>80</td>\n      <td>onboarding_start</td>\n      <td>2024-03-20T05:15:31</td>\n      <td>{\"funnel_type\": \"main\"}</td>\n    </tr>\n    <tr>\n      <th>301838</th>\n      <td>80</td>\n      <td>profile_start</td>\n      <td>2024-03-20T05:15:41</td>\n      <td>{}</td>\n    </tr>\n    <tr>\n      <th>301863</th>\n      <td>80</td>\n      <td>paywall_show</td>\n      <td>2024-03-20T05:25:43</td>\n      <td>{}</td>\n    </tr>\n    <tr>\n      <th>313265</th>\n      <td>106</td>\n      <td>onboarding_start</td>\n      <td>2024-03-23T04:55:21</td>\n      <td>{\"funnel_type\": \"main\"}</td>\n    </tr>\n    <tr>\n      <th>313267</th>\n      <td>106</td>\n      <td>profile_start</td>\n      <td>2024-03-23T04:55:31</td>\n      <td>{}</td>\n    </tr>\n    <tr>\n      <th>313299</th>\n      <td>106</td>\n      <td>paywall_show</td>\n      <td>2024-03-23T05:05:32</td>\n      <td>{}</td>\n    </tr>\n    <tr>\n      <th>292360</th>\n      <td>108</td>\n      <td>onboarding_start</td>\n      <td>2024-03-17T19:12:26</td>\n      <td>{\"funnel_type\": \"main\"}</td>\n    </tr>\n    <tr>\n      <th>292362</th>\n      <td>108</td>\n      <td>profile_start</td>\n      <td>2024-03-17T19:12:36</td>\n      <td>{}</td>\n    </tr>\n    <tr>\n      <th>292392</th>\n      <td>108</td>\n      <td>paywall_show</td>\n      <td>2024-03-17T19:22:38</td>\n      <td>{}</td>\n    </tr>\n  </tbody>\n</table>\n</div>"
          },
          "metadata": {}
        }
      ],
      "execution_count": 15
    },
    {
      "cell_type": "code",
      "source": "experiment_df = events_df[events_df['event_type'] == 'experiment_exposure'].copy()\n\nexperiment_df['experiment_name'] = experiment_df['event_params'].apply(lambda x: eval(x).get('experiment_name', ''))",
      "metadata": {
        "trusted": true,
        "tags": [],
        "editable": true,
        "slideshow": {
          "slide_type": ""
        }
      },
      "outputs": [],
      "execution_count": 18
    },
    {
      "cell_type": "code",
      "source": "experiment_counts = experiment_df.groupby('experiment_name')['user_id'].nunique().sort_values(ascending=False)\n\ntop_3_experiments = experiment_counts.head(3)\ntop_3_experiments",
      "metadata": {
        "trusted": true,
        "tags": [],
        "editable": true,
        "slideshow": {
          "slide_type": ""
        }
      },
      "outputs": [
        {
          "execution_count": 20,
          "output_type": "execute_result",
          "data": {
            "text/plain": "experiment_name\nexp_2    5731\nexp_8    4586\nexp_1    4173\nName: user_id, dtype: int64"
          },
          "metadata": {}
        }
      ],
      "execution_count": 20
    },
    {
      "cell_type": "code",
      "source": "",
      "metadata": {
        "trusted": true,
        "tags": [],
        "editable": true,
        "slideshow": {
          "slide_type": ""
        }
      },
      "outputs": [],
      "execution_count": null
    }
  ]
}